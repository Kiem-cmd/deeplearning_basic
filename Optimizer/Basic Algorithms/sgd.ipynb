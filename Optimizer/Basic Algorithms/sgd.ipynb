{
 "cells": [
  {
   "cell_type": "markdown",
   "metadata": {},
   "source": [
    "## Stochastic Gradient Descent(SGD)"
   ]
  },
  {
   "cell_type": "markdown",
   "metadata": {},
   "source": [
    "-------------------------------------\n",
    "SGD và các biến thể của nó có lẽ là thuật toán tối ưu phố biến nhất trong machine learning nói chung và deep learning nói riêng."
   ]
  },
  {
   "cell_type": "markdown",
   "metadata": {},
   "source": [
    "### 1. Learning Rate "
   ]
  },
  {
   "cell_type": "markdown",
   "metadata": {},
   "source": [
    " Learing rate: Một tham số quan trọng đối với SGD. Trước đây chúng ta thường đặt lr là cố định nhưng thực tế lr thường đc thiết kế giảm dần \n",
    "* lr tại vòng lặp k = $ \\epsilon_k$"
   ]
  },
  {
   "cell_type": "markdown",
   "metadata": {},
   "source": [
    "-------------------------------------------------\n",
    "Tại sao với lại phải thay đổi learning rate ? \n",
    "\n",
    "* Trong SGD: Gradient được tính bởi một số mẫu ngẫu nhiên trong tập dữ liệu (1 hoặc 1 vài chứ không phải toàn bộ) nên vô tình nó sẽ tạo ra noise. Và noise này sẽ không giảm khi chúng ta tối ưu qua mỗi vòng lặp vì vòng lặp nào chúng ta cũng chọn ngẫu nhiên vài mẫu để train.\n",
    "\n",
    "* Còn đối với Batch Gradient Descent nó sử dụng toàn bộ tập train một lúc vì thế nó có thể sử dụng lr cố định "
   ]
  },
  {
   "cell_type": "markdown",
   "metadata": {},
   "source": [
    "---------------------------------------------\n",
    "Thuật toán SGD: \n",
    "* Require: learing rate $\\epsilon_k$ \n",
    "* Require: Init paramter $\\theta$\n",
    "* <b>While</b> (tiêu chí dừng chưa được đáp ứng) <b>do </b>: \n",
    "    \n",
    "    Lấy minibatch của _m_ example từ training set:\n",
    "    \n",
    "    * $ x = \\{x^{(1)},...,x^{(m)}\\}$ \n",
    "    * $ y = \\{y^{(1)},...,y^{(m)}\\}$\n",
    "* Tính gradient:\n",
    "    * $\\boldsymbol{g}  = \\frac{1}{m}\\sum_i\\nabla_\\theta L(f(x^{(i)};\\boldsymbol{\\theta}),\\boldsymbol{y^{(i)}})$\n",
    "\n",
    "* Update:\n",
    "    * $\\boldsymbol{\\theta} = \\boldsymbol{\\theta} - \\epsilon_k$\n",
    "\n",
    "* <b>End while </b>"
   ]
  },
  {
   "cell_type": "markdown",
   "metadata": {},
   "source": [
    "------------------------------\n",
    "Điều kiện hội tụ của SGD: \n",
    "* $ \\sum_{k = 1}^\\infty\\epsilon_k = \\infty $ \n",
    "\n",
    "and \n",
    "\n",
    "* $ \\sum_{k = 1}^\\infty\\epsilon_k^2 < \\infty$ \n",
    "\n",
    "Trong thực tế thì learning rate giảm dần bằng cách phân rã tuyến tính( ví dụ decay = 0.9 thì sau 1 iter giảm 10% đến khi đủ nhỏ thì dừng lại) \n",
    "\n",
    "$$\\epsilon_k = (1- \\alpha)\\epsilon_0 + \\alpha\\epsilon_t$$ \n",
    "\n",
    "Trong đó $\\alpha = \\frac{k}{t}$ còn $\\epsilon_t$ là thời điểm _lr_ đủ nhỏ và sau iter _t_ thì thường _lr_ được cố định \n"
   ]
  },
  {
   "cell_type": "markdown",
   "metadata": {},
   "source": [
    "-----------------------------\n",
    "Learning rate có thể được chọn bằng các thử(trial) và sai(error) và nó đòi hỏi sự hiểu biết và kinh nghiệm, nhưng thường tốt nhất để chọn nó bằng các theo dõi learning curves(biểu đồ vẽ hàm mục tiêu theo thời gian)\n",
    "\n",
    "Khi sử dụng linear schedule, các parameter phải chọn từ đầu là $\\epsilon_0, \\epsilon_t, t$\n",
    "\n",
    "* _t_ : Thông thường _t_ được thiết lập sao cho lặp được vài trăm lần qua training set. \n",
    "* $\\epsilon_t$: Thông thườn được thiết lập = 1% $ \\epsilon_0 $ \n",
    "* $\\epsilon_0$: Main question ????? \n",
    "    * Nếu quá lớn -> learning curve dao động mạnh, cost thường tăng đáng kể \n",
    "    * Nếu quả nhỏ -> quá trình diễn ra chậm, có thể kẹt với high cost value\n",
    "    * Tốt nhất là chúng ta sẽ huấn luyện với với một _lr_ sau đó quan sát và lấy lại _lr_ cao hơn 1 chút so với _lr_ tại thời điểm đó( sau khoảng 100 iter) "
   ]
  },
  {
   "cell_type": "markdown",
   "metadata": {},
   "source": [
    "### 2. Property"
   ]
  },
  {
   "cell_type": "markdown",
   "metadata": {},
   "source": [
    "Thuộc tính quan trọng nhất của SGD và minibatch hay gradient online là thời gian tính toán cho mỗi lần update là ko đổi theo kích thước của training set. Điều này cho phép hội tụ ngay cả trước khi lặp qua tất cả trainning set \n",
    "\n",
    "--------------------------------------"
   ]
  },
  {
   "cell_type": "markdown",
   "metadata": {},
   "source": [
    "Để nghiên cứu tốc độ hội tụ của một thuật toán tối ưu hóa người ta thường đo: \n",
    "\n",
    "<b> excess error </b> = $J(\\theta) - min_\\theta(\\theta) $ \n",
    "\n",
    "Qua nghiên cứu ngta thấy được tốc độ tối ưu cao nhất mà nên đạt tới là O(1/k) mà chúng ta không cần phải cố hơn vì tối ưu nhanh quá thì rất có thể bị overfitting \n",
    "\n",
    "\n",
    "--------------------------------------------"
   ]
  },
  {
   "cell_type": "markdown",
   "metadata": {},
   "source": [
    "Qua thực tế người ta thấy rằng tốc độ SGD là vượt trội ở giai đoạn đầu(xa điểm tối ưu) nhưng rất chậm khi càng tiến gần đến điểm tối ưu ngược lại so với Batch Gradient Descent. Vì vậy để lấy được điểm mạnh của các hai thuật toán này chúng ta có thể thay đổi kích thước minibatch trong quá trình train (tăng dần) để cân bằng được việc nhanh đầu và khi đến gần vị trí tối ưu"
   ]
  },
  {
   "cell_type": "markdown",
   "metadata": {},
   "source": [
    "### 3. Coding "
   ]
  },
  {
   "cell_type": "code",
   "execution_count": 12,
   "metadata": {},
   "outputs": [],
   "source": [
    "from sklearn.preprocessing import StandardScaler \n",
    "import numpy as np \n",
    "import pandas as pd \n",
    "from sklearn.model_selection import train_test_split\n"
   ]
  },
  {
   "cell_type": "code",
   "execution_count": 4,
   "metadata": {},
   "outputs": [
    {
     "name": "stdout",
     "output_type": "stream",
     "text": [
      ".. _california_housing_dataset:\n",
      "\n",
      "California Housing dataset\n",
      "--------------------------\n",
      "\n",
      "**Data Set Characteristics:**\n",
      "\n",
      "    :Number of Instances: 20640\n",
      "\n",
      "    :Number of Attributes: 8 numeric, predictive attributes and the target\n",
      "\n",
      "    :Attribute Information:\n",
      "        - MedInc        median income in block group\n",
      "        - HouseAge      median house age in block group\n",
      "        - AveRooms      average number of rooms per household\n",
      "        - AveBedrms     average number of bedrooms per household\n",
      "        - Population    block group population\n",
      "        - AveOccup      average number of household members\n",
      "        - Latitude      block group latitude\n",
      "        - Longitude     block group longitude\n",
      "\n",
      "    :Missing Attribute Values: None\n",
      "\n",
      "This dataset was obtained from the StatLib repository.\n",
      "https://www.dcc.fc.up.pt/~ltorgo/Regression/cal_housing.html\n",
      "\n",
      "The target variable is the median house value for California districts,\n",
      "expressed in hundreds of thousands of dollars ($100,000).\n",
      "\n",
      "This dataset was derived from the 1990 U.S. census, using one row per census\n",
      "block group. A block group is the smallest geographical unit for which the U.S.\n",
      "Census Bureau publishes sample data (a block group typically has a population\n",
      "of 600 to 3,000 people).\n",
      "\n",
      "An household is a group of people residing within a home. Since the average\n",
      "number of rooms and bedrooms in this dataset are provided per household, these\n",
      "columns may take surpinsingly large values for block groups with few households\n",
      "and many empty houses, such as vacation resorts.\n",
      "\n",
      "It can be downloaded/loaded using the\n",
      ":func:`sklearn.datasets.fetch_california_housing` function.\n",
      "\n",
      ".. topic:: References\n",
      "\n",
      "    - Pace, R. Kelley and Ronald Barry, Sparse Spatial Autoregressions,\n",
      "      Statistics and Probability Letters, 33 (1997) 291-297\n",
      "\n"
     ]
    }
   ],
   "source": [
    "from sklearn.datasets import fetch_california_housing \n",
    "data = fetch_california_housing()\n",
    "print(data.DESCR)"
   ]
  },
  {
   "cell_type": "code",
   "execution_count": 6,
   "metadata": {},
   "outputs": [
    {
     "data": {
      "text/plain": [
       "(20640, 8)"
      ]
     },
     "execution_count": 6,
     "metadata": {},
     "output_type": "execute_result"
    }
   ],
   "source": [
    "data.data.shape"
   ]
  },
  {
   "cell_type": "code",
   "execution_count": 9,
   "metadata": {},
   "outputs": [
    {
     "data": {
      "text/html": [
       "<div>\n",
       "<style scoped>\n",
       "    .dataframe tbody tr th:only-of-type {\n",
       "        vertical-align: middle;\n",
       "    }\n",
       "\n",
       "    .dataframe tbody tr th {\n",
       "        vertical-align: top;\n",
       "    }\n",
       "\n",
       "    .dataframe thead th {\n",
       "        text-align: right;\n",
       "    }\n",
       "</style>\n",
       "<table border=\"1\" class=\"dataframe\">\n",
       "  <thead>\n",
       "    <tr style=\"text-align: right;\">\n",
       "      <th></th>\n",
       "      <th>MedInc</th>\n",
       "      <th>HouseAge</th>\n",
       "      <th>AveRooms</th>\n",
       "      <th>AveBedrms</th>\n",
       "      <th>Population</th>\n",
       "      <th>AveOccup</th>\n",
       "      <th>Latitude</th>\n",
       "      <th>Longitude</th>\n",
       "      <th>Price</th>\n",
       "    </tr>\n",
       "  </thead>\n",
       "  <tbody>\n",
       "    <tr>\n",
       "      <th>0</th>\n",
       "      <td>8.3252</td>\n",
       "      <td>41.0</td>\n",
       "      <td>6.984127</td>\n",
       "      <td>1.023810</td>\n",
       "      <td>322.0</td>\n",
       "      <td>2.555556</td>\n",
       "      <td>37.88</td>\n",
       "      <td>-122.23</td>\n",
       "      <td>4.526</td>\n",
       "    </tr>\n",
       "    <tr>\n",
       "      <th>1</th>\n",
       "      <td>8.3014</td>\n",
       "      <td>21.0</td>\n",
       "      <td>6.238137</td>\n",
       "      <td>0.971880</td>\n",
       "      <td>2401.0</td>\n",
       "      <td>2.109842</td>\n",
       "      <td>37.86</td>\n",
       "      <td>-122.22</td>\n",
       "      <td>3.585</td>\n",
       "    </tr>\n",
       "    <tr>\n",
       "      <th>2</th>\n",
       "      <td>7.2574</td>\n",
       "      <td>52.0</td>\n",
       "      <td>8.288136</td>\n",
       "      <td>1.073446</td>\n",
       "      <td>496.0</td>\n",
       "      <td>2.802260</td>\n",
       "      <td>37.85</td>\n",
       "      <td>-122.24</td>\n",
       "      <td>3.521</td>\n",
       "    </tr>\n",
       "    <tr>\n",
       "      <th>3</th>\n",
       "      <td>5.6431</td>\n",
       "      <td>52.0</td>\n",
       "      <td>5.817352</td>\n",
       "      <td>1.073059</td>\n",
       "      <td>558.0</td>\n",
       "      <td>2.547945</td>\n",
       "      <td>37.85</td>\n",
       "      <td>-122.25</td>\n",
       "      <td>3.413</td>\n",
       "    </tr>\n",
       "    <tr>\n",
       "      <th>4</th>\n",
       "      <td>3.8462</td>\n",
       "      <td>52.0</td>\n",
       "      <td>6.281853</td>\n",
       "      <td>1.081081</td>\n",
       "      <td>565.0</td>\n",
       "      <td>2.181467</td>\n",
       "      <td>37.85</td>\n",
       "      <td>-122.25</td>\n",
       "      <td>3.422</td>\n",
       "    </tr>\n",
       "  </tbody>\n",
       "</table>\n",
       "</div>"
      ],
      "text/plain": [
       "   MedInc  HouseAge  AveRooms  AveBedrms  Population  AveOccup  Latitude  \\\n",
       "0  8.3252      41.0  6.984127   1.023810       322.0  2.555556     37.88   \n",
       "1  8.3014      21.0  6.238137   0.971880      2401.0  2.109842     37.86   \n",
       "2  7.2574      52.0  8.288136   1.073446       496.0  2.802260     37.85   \n",
       "3  5.6431      52.0  5.817352   1.073059       558.0  2.547945     37.85   \n",
       "4  3.8462      52.0  6.281853   1.081081       565.0  2.181467     37.85   \n",
       "\n",
       "   Longitude  Price  \n",
       "0    -122.23  4.526  \n",
       "1    -122.22  3.585  \n",
       "2    -122.24  3.521  \n",
       "3    -122.25  3.413  \n",
       "4    -122.25  3.422  "
      ]
     },
     "execution_count": 9,
     "metadata": {},
     "output_type": "execute_result"
    }
   ],
   "source": [
    "df = pd.DataFrame(data = data.data,columns=data.feature_names)\n",
    "df['Price'] = data.target\n",
    "df.head(5)"
   ]
  },
  {
   "cell_type": "code",
   "execution_count": 14,
   "metadata": {},
   "outputs": [],
   "source": [
    "X_train, X_test, Y_train, Y_test = train_test_split(data.data,data.target,test_size = 0.2)\n",
    "\n",
    "scalar = StandardScaler() \n",
    "X_train = scalar.fit_transform(X_train)\n",
    "X_test = scalar.fit_transform(X_test)"
   ]
  },
  {
   "cell_type": "code",
   "execution_count": 16,
   "metadata": {},
   "outputs": [
    {
     "data": {
      "text/plain": [
       "(16512, 8)"
      ]
     },
     "execution_count": 16,
     "metadata": {},
     "output_type": "execute_result"
    }
   ],
   "source": [
    "X_train.shape"
   ]
  },
  {
   "cell_type": "markdown",
   "metadata": {},
   "source": [
    "#### Stochstic Gradient Descent "
   ]
  },
  {
   "cell_type": "code",
   "execution_count": 33,
   "metadata": {},
   "outputs": [],
   "source": [
    " def sgd(X_train,Y_train,lr,lr_variation,epochs,power_epochs):\n",
    "    w = np.random.randn(8,1)\n",
    "    b = np.random.randn(1,1) \n",
    "    loss_log = []\n",
    "    for epoch in range(1+ epochs):\n",
    "        error = 0 \n",
    "        N = X_train.shape[0] \n",
    "        for i in range(N):\n",
    "            index = np.random.choice(0,N) \n",
    "            X_i = X_train[index,:].reshape(1,X_train.shape[1])\n",
    "            Y_i = Y_train[index].reshape(1,1) \n",
    "\n",
    "            Y_pred = np.dot(X_i,w) + b \n",
    "            loss = Y_pred - Y_i \n",
    "            error += loss**2\n",
    "\n",
    "            w_grad = X_i.T.dot(Y_pred - Y_i)\n",
    "            b_grad = (Y_pred - Y_i) \n",
    "\n",
    "            w = w - (2/N) * lr * w_grad \n",
    "            b = b - (2/N) * lr * b_grad \n",
    "        loss_log.append(error)\n",
    "        if epoch%10 == 0:\n",
    "            print(f\"Epoch {epoch} - Loss: {error}\")\n",
    "        if lr_variation == 'invscaling':\n",
    "            lr = lr/pow(epochs,power_epochs) \n",
    "    return w,b,loss_log"
   ]
  },
  {
   "cell_type": "code",
   "execution_count": 30,
   "metadata": {},
   "outputs": [],
   "source": [
    "def predict(X_test,w,b) :\n",
    "    X_test = np.array(X_test)\n",
    "    Y_pred = [] \n",
    "    for i in range(len(X_test)):\n",
    "        y = np.asscalar(np.dot(w,X_test[i]) + b) \n",
    "        Y_pred.append(y) \n",
    "    return Y_pred"
   ]
  },
  {
   "cell_type": "code",
   "execution_count": 54,
   "metadata": {},
   "outputs": [
    {
     "name": "stdout",
     "output_type": "stream",
     "text": [
      "Epoch 0 - Loss: [[62827.60796547]]\n",
      "Epoch 10 - Loss: [[15034.01711376]]\n",
      "Epoch 20 - Loss: [[12937.32833964]]\n",
      "Epoch 30 - Loss: [[13989.58174005]]\n",
      "Epoch 40 - Loss: [[14088.72385156]]\n",
      "Epoch 50 - Loss: [[14067.91519986]]\n",
      "Epoch 60 - Loss: [[13123.50604628]]\n",
      "Epoch 70 - Loss: [[14670.06590218]]\n",
      "Epoch 80 - Loss: [[13027.60851205]]\n",
      "Epoch 90 - Loss: [[14918.24239729]]\n",
      "Epoch 100 - Loss: [[13983.75776341]]\n"
     ]
    }
   ],
   "source": [
    "w_optimal,b_optimal,log_loss = sgd(X_train,Y_train,lr = 1,lr_variation='invscaling',epochs=100,power_epochs=0.2)"
   ]
  },
  {
   "cell_type": "code",
   "execution_count": 56,
   "metadata": {},
   "outputs": [
    {
     "data": {
      "text/plain": [
       "[<matplotlib.lines.Line2D at 0x1cc8332a090>]"
      ]
     },
     "execution_count": 56,
     "metadata": {},
     "output_type": "execute_result"
    },
    {
     "data": {
      "image/png": "[encoded data removed]",
      "text/plain": [
       "<Figure size 640x480 with 1 Axes>"
      ]
     },
     "metadata": {},
     "output_type": "display_data"
    }
   ],
   "source": [
    "plt.plot(np.asarray(log_loss).flatten())"
   ]
  },
  {
   "cell_type": "markdown",
   "metadata": {},
   "source": [
    "Có thể thấy nó loss giảm rất nhanh ở nhưng giai đoạn đầu nhưng càng gần vị trí tối ưu thì lại càng luẩn quẩn "
   ]
  },
  {
   "cell_type": "markdown",
   "metadata": {},
   "source": [
    "#### Batch Gradient Descent "
   ]
  },
  {
   "cell_type": "code",
   "execution_count": null,
   "metadata": {},
   "outputs": [],
   "source": [
    "def gd(X_train,Y_train,lr,batch_size,epochs):\n",
    "    w = np.random.rand(8,1) \n",
    "    b = np.random.rand(1,1) \n",
    "    loss_log = []\n",
    "\n",
    "    for epoch in range(epochs+1):\n",
    "        error = 0 \n",
    "        N = X_train.shape[0]\n",
    "\n",
    "        for i in range(round(N/batch_size)):\n",
    "            index = np.random.choice(range(N),batch_size)\n",
    "            X_batch = X_train[index,:]\n",
    "            Y_batch = Y_train[index]\n",
    "        \n",
    "            Y_pred = np.dot(X_batch,w) + b \n",
    "            loss = Y_pred - Y_batch\n",
    "            error += np.sum(loss**2) \n",
    "\n",
    "            w_grad = X_batch.T.dot(Y_pred - Y_batch)\n",
    "            b_grad = Y_pred - Y_batch\n",
    "\n",
    "            w = w - (2/N) * lr * w_grad \n",
    "            b = b - (2/N) * lr * b_grad \n",
    "        loss_log.append(error) \n",
    "        if epoch%10 == 0:\n",
    "            print(f\"Epoch: {epoch} - Loss: {error}\") \n",
    "    return w,b,loss_log"
   ]
  },
  {
   "cell_type": "code",
   "execution_count": 64,
   "metadata": {},
   "outputs": [
    {
     "name": "stdout",
     "output_type": "stream",
     "text": [
      "Epoch: 0 - Loss: 3644456.334565588\n",
      "Epoch: 10 - Loss: 2531560.2432906656\n",
      "Epoch: 20 - Loss: 2871906.030841388\n",
      "Epoch: 30 - Loss: 2223429.0231706533\n",
      "Epoch: 40 - Loss: 1959306.7219635183\n",
      "Epoch: 50 - Loss: 1972944.246016478\n",
      "Epoch: 60 - Loss: 1879481.6252527025\n",
      "Epoch: 70 - Loss: 1899568.3787577606\n",
      "Epoch: 80 - Loss: 1801452.54870541\n",
      "Epoch: 90 - Loss: 1749408.6856376224\n",
      "Epoch: 100 - Loss: 1736220.9003692826\n"
     ]
    }
   ],
   "source": [
    "w_optimal,b_optimal,log_loss = gd(X_train,Y_train,lr=0.01,batch_size = 32,epochs=100)"
   ]
  },
  {
   "cell_type": "code",
   "execution_count": 65,
   "metadata": {},
   "outputs": [
    {
     "data": {
      "text/plain": [
       "[<matplotlib.lines.Line2D at 0x1cc8342aa10>]"
      ]
     },
     "execution_count": 65,
     "metadata": {},
     "output_type": "execute_result"
    },
    {
     "data": {
      "image/png": "[encoded data removed]",
      "text/plain": [
       "<Figure size 640x480 with 1 Axes>"
      ]
     },
     "metadata": {},
     "output_type": "display_data"
    }
   ],
   "source": [
    "plt.plot(np.asarray(log_loss).flatten())"
   ]
  },
  {
   "cell_type": "markdown",
   "metadata": {},
   "source": [
    "Giai đoạn đầu xuống chậm nhưng dần dần sẽ ổn định hơn đi đến gần vị trí tối ưu"
   ]
  },
  {
   "cell_type": "code",
   "execution_count": null,
   "metadata": {},
   "outputs": [],
   "source": []
  }
 ],
 "metadata": {
  "kernelspec": {
   "display_name": "Python 3",
   "language": "python",
   "name": "python3"
  },
  "language_info": {
   "codemirror_mode": {
    "name": "ipython",
    "version": 3
   },
   "file_extension": ".py",
   "mimetype": "text/x-python",
   "name": "python",
   "nbconvert_exporter": "python",
   "pygments_lexer": "ipython3",
   "version": "3.11.1"
  }
 },
 "nbformat": 4,
 "nbformat_minor": 2
}
